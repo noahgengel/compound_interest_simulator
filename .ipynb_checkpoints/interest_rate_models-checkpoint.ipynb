{
 "cells": [
  {
   "cell_type": "markdown",
   "metadata": {},
   "source": [
    "### Compound Interest Simulator\n",
    "\n",
    "\n",
    "Notebook is intended to be used to model debts over time that may be used to finance medical education. Rates are current as of 2020/06/14.\n",
    "\n",
    "This simulator is NOT intended to be used for financial advice; please be sure to consult financial professionals for thorough investments.\n",
    "\n",
    "NOTE: The amount modeled for 'expected return on investment' (7%) is based on a conservative expected ROI for the S&P 500."
   ]
  },
  {
   "cell_type": "code",
   "execution_count": 25,
   "metadata": {
    "collapsed": true
   },
   "outputs": [],
   "source": [
    "import matplotlib as plt\n",
    "import numpy as np\n",
    "import pandas as pd"
   ]
  },
  {
   "cell_type": "code",
   "execution_count": 26,
   "metadata": {},
   "outputs": [],
   "source": [
    "class loan_type:\n",
    "    \"\"\"\n",
    "    Class is used to store attributes of a loan type.\n",
    "    \n",
    "    Attributes\n",
    "    ----------\n",
    "    origination_fee (float): shows the relate origination fee\n",
    "        of said loan\n",
    "        \n",
    "    interest_rate (float): the interest rate (expressed in percent)\n",
    "        of the loan\n",
    "        \n",
    "    deferment_period (float): the number of years in which a loan\n",
    "        will not accrue interest    \n",
    "    \n",
    "    NOTES\n",
    "    -----\n",
    "    1. All values are set to 0 at the onset for ease of use\n",
    "    \"\"\"\n",
    "    \n",
    "    def __init__(self, origination_fee, interest_rate, deferment_period):\n",
    "        self.origination_fee = origination_fee\n",
    "        self.interest_rate = interest_rate\n",
    "        self.deferment_period = deferment_period"
   ]
  },
  {
   "cell_type": "markdown",
   "metadata": {},
   "source": [
    "### Below are the interest rates and origination fees (expressed as a percent):"
   ]
  },
  {
   "cell_type": "code",
   "execution_count": 27,
   "metadata": {
    "collapsed": true
   },
   "outputs": [],
   "source": [
    "direct_stafford_loans_origination_fee = 1.059  \n",
    "direct_plus_loans_origination_fee = 4.236\n",
    "kneale_loans_origination_fee = 0\n",
    "\n",
    "# Note: Kneale loan does not have an origination fee"
   ]
  },
  {
   "cell_type": "code",
   "execution_count": 28,
   "metadata": {
    "collapsed": true
   },
   "outputs": [],
   "source": [
    "direct_stafford_loans_interest = 4.3\n",
    "direct_plus_loans_interest = 5.3\n",
    "kneale_loans_interest = 5"
   ]
  },
  {
   "cell_type": "code",
   "execution_count": 29,
   "metadata": {
    "collapsed": true
   },
   "outputs": [],
   "source": [
    "direct_stafford_deferment = 0\n",
    "direct_plus_loans_deferment = 0\n",
    "kneale_loans_deferment = 4  # assuming graduating in 4 years"
   ]
  },
  {
   "cell_type": "markdown",
   "metadata": {},
   "source": [
    "### Now we create the different loan classes that a Hopkins student may take out (excluding private loans)"
   ]
  },
  {
   "cell_type": "code",
   "execution_count": 30,
   "metadata": {},
   "outputs": [],
   "source": [
    "stafford = loan_type(\n",
    "    origination_fee = direct_stafford_loans_origination_fee,\n",
    "    interest_rate = direct_stafford_loans,\n",
    "    deferment_period = direct_stafford_deferment)"
   ]
  },
  {
   "cell_type": "code",
   "execution_count": 31,
   "metadata": {},
   "outputs": [],
   "source": [
    "direct_plus = loan_type(\n",
    "    origination_fee = direct_plus_loans_origination_fee,\n",
    "    interest_rate = direct_plus_loans_interest,\n",
    "    deferment_period = direct_plus_loans_deferment)"
   ]
  },
  {
   "cell_type": "code",
   "execution_count": 32,
   "metadata": {
    "collapsed": true
   },
   "outputs": [],
   "source": [
    "kneale = loan_type(\n",
    "    origination_fee = kneale_loans_origination_fee,\n",
    "    interest_rate = kneale_loans_interest,\n",
    "    deferment_period = kneale_loans_deferment)"
   ]
  },
  {
   "cell_type": "code",
   "execution_count": null,
   "metadata": {
    "collapsed": true
   },
   "outputs": [],
   "source": []
  }
 ],
 "metadata": {
  "kernelspec": {
   "display_name": "Python 3",
   "language": "python",
   "name": "python3"
  },
  "language_info": {
   "codemirror_mode": {
    "name": "ipython",
    "version": 3
   },
   "file_extension": ".py",
   "mimetype": "text/x-python",
   "name": "python",
   "nbconvert_exporter": "python",
   "pygments_lexer": "ipython3",
   "version": "3.6.3"
  }
 },
 "nbformat": 4,
 "nbformat_minor": 2
}
